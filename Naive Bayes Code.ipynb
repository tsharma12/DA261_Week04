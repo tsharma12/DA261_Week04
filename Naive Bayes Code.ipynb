{
 "cells": [
  {
   "cell_type": "markdown",
   "metadata": {},
   "source": [
    "# Naive Bayes from Scratch"
   ]
  },
  {
   "cell_type": "code",
   "execution_count": 5,
   "metadata": {},
   "outputs": [],
   "source": [
    "#   ***********************************************\n",
    "#   PATIENT     |   FEAVER  |    COUGH  |   DISEASE\n",
    "#   ***********************************************\n",
    "#       P1      |     Yes   |      No   |     No\n",
    "#       P2      |     Yes   |      Yes  |     Yes\n",
    "#       P3      |     No    |      Yes  |     No\n",
    "#       P4      |     No    |      No   |     ??\n",
    "#   ***********************************************"
   ]
  },
  {
   "cell_type": "code",
   "execution_count": 6,
   "metadata": {},
   "outputs": [
    {
     "name": "stdout",
     "output_type": "stream",
     "text": [
      "[[1, 0], [1, 1], [0, 1]] [0, 1, 0]\n",
      "1 2\n",
      "Probability of Disease (Yes): 0.18181818181818182\n",
      "Probability of No Disease (No): 0.8181818181818182\n",
      "Prediction for P4: No Disease\n"
     ]
    }
   ],
   "source": [
    "# Dataset: [Fever, Cough, Disease]\n",
    "data = [\n",
    "    [1, 0, 0],  # P1: Yes Fever, No Cough, No Disease\n",
    "    [1, 1, 1],  # P2: Yes Fever, Yes Cough, Yes Disease\n",
    "    [0, 1, 0]   # P3: No Fever, Yes Cough, No Disease\n",
    "]\n",
    "\n",
    "# Separate features and labels\n",
    "X = [row[:2] for row in data]\n",
    "y = [row[2] for row in data]\n",
    "print(X, y)\n",
    "\n",
    "# Count occurrences\n",
    "count_disease_1 = sum(1 for label in y if label == 1)\n",
    "count_disease_0 = sum(1 for label in y if label == 0)\n",
    "total_samples = len(y)\n",
    "print(count_disease_1, count_disease_0)\n",
    "\n",
    "# Prior probabilities\n",
    "P_disease_1 = count_disease_1 / total_samples\n",
    "P_disease_0 = count_disease_0 / total_samples\n",
    "\n",
    "# Function to compute likelihood with Laplace smoothing\n",
    "def compute_likelihood(feature_index, feature_value, disease_value):\n",
    "    count_feature_given_disease = sum(1 for i in range(total_samples) \n",
    "                                      if X[i][feature_index] == feature_value and y[i] == disease_value)\n",
    "    count_disease = count_disease_1 if disease_value == 1 else count_disease_0\n",
    "    \n",
    "    # Laplace smoothing: Add 1 to numerator and 2 to denominator\n",
    "    return (count_feature_given_disease + 1) / (count_disease + 2)\n",
    "    # return (count_feature_given_disease) / (count_disease)\n",
    "\n",
    "# New patient data: Fever = 0, Cough = 0 (No Fever, No Cough)\n",
    "X_new = [0, 0]\n",
    "\n",
    "# Compute Likelihood\n",
    "P_X_given_1 = compute_likelihood(0, X_new[0], 1) * compute_likelihood(1, X_new[1], 1)\n",
    "P_X_given_0 = compute_likelihood(0, X_new[0], 0) * compute_likelihood(1, X_new[1], 0)\n",
    "\n",
    "# Compute Posterior = Likelihood x Prior\n",
    "P_1_given_X = P_X_given_1 * P_disease_1\n",
    "P_0_given_X = P_X_given_0 * P_disease_0\n",
    "\n",
    "# Normalize (Optional, since we only compare)\n",
    "P_sum = P_1_given_X + P_0_given_X\n",
    "P_1_given_X /= P_sum\n",
    "P_0_given_X /= P_sum\n",
    "\n",
    "# Make prediction\n",
    "result = 1 if P_1_given_X > P_0_given_X else 0\n",
    "\n",
    "# Print results\n",
    "print(f\"Probability of Disease (Yes): {P_1_given_X}\")\n",
    "print(f\"Probability of No Disease (No): {P_0_given_X}\")\n",
    "print(f\"Prediction for P4: {'Disease' if result == 1 else 'No Disease'}\")\n"
   ]
  },
  {
   "cell_type": "markdown",
   "metadata": {},
   "source": [
    "# Naive Bayes using library"
   ]
  },
  {
   "cell_type": "code",
   "execution_count": 7,
   "metadata": {},
   "outputs": [
    {
     "name": "stdout",
     "output_type": "stream",
     "text": [
      "Probability of Disease (Yes): 0.18181818181818177\n",
      "Probability of No Disease (No): 0.818181818181818\n",
      "Prediction for P4: No Disease\n"
     ]
    }
   ],
   "source": [
    "from sklearn.naive_bayes import BernoulliNB\n",
    "\n",
    "# Dataset: [Fever, Cough, Disease]\n",
    "data = [\n",
    "    [1, 0, 0],  # P1: Yes Fever, No Cough, No Disease\n",
    "    [1, 1, 1],  # P2: Yes Fever, Yes Cough, Yes Disease\n",
    "    [0, 1, 0]   # P3: No Fever, Yes Cough, No Disease\n",
    "]\n",
    "\n",
    "# Separate features and labels\n",
    "X = [row[:2] for row in data]\n",
    "y = [row[2] for row in data]\n",
    "\n",
    "# Train the Bernoulli Naïve Bayes model\n",
    "model = BernoulliNB()\n",
    "model.fit(X, y)\n",
    "\n",
    "# New patient data: Fever = 0, Cough = 0 (No Fever, No Cough)\n",
    "X_new = [[0, 0]]\n",
    "\n",
    "# Predict for new patient\n",
    "y_pred = model.predict(X_new)\n",
    "y_proba = model.predict_proba(X_new)\n",
    "\n",
    "# Print results\n",
    "print(f\"Probability of Disease (Yes): {y_proba[0][1]}\")\n",
    "print(f\"Probability of No Disease (No): {y_proba[0][0]}\")\n",
    "print(f\"Prediction for P4: {'Disease' if y_pred[0] == 1 else 'No Disease'}\")"
   ]
  },
  {
   "cell_type": "code",
   "execution_count": null,
   "metadata": {},
   "outputs": [],
   "source": []
  }
 ],
 "metadata": {
  "kernelspec": {
   "display_name": "base",
   "language": "python",
   "name": "python3"
  },
  "language_info": {
   "codemirror_mode": {
    "name": "ipython",
    "version": 3
   },
   "file_extension": ".py",
   "mimetype": "text/x-python",
   "name": "python",
   "nbconvert_exporter": "python",
   "pygments_lexer": "ipython3",
   "version": "3.12.4"
  }
 },
 "nbformat": 4,
 "nbformat_minor": 2
}
